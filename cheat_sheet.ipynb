{
 "cells": [
  {
   "cell_type": "code",
   "execution_count": 9,
   "outputs": [],
   "source": [
    "import numpy as np\n",
    "import matplotlib.pyplot as plt"
   ],
   "metadata": {
    "collapsed": false,
    "pycharm": {
     "name": "#%%\n"
    }
   }
  },
  {
   "cell_type": "markdown",
   "source": [
    "# Numbers\n",
    "\n",
    "### Natural numbers, N\n",
    "N = Every positive integer, and 0.\n",
    "\n",
    "###  Integers, Z\n",
    "Z = Every positive and negative integer, and 0.\n",
    "\n",
    "### Rational numbers, Q\n",
    "Q = Every number written up with the division of 2 integers.\n",
    "\n",
    "### Real numbers, R\n",
    "R = Q + numbers that can not be created by dividing 2 integers, like e, pi, sqrt2.\n",
    "\n",
    "N, and Z are discrete lists, which means that between two elements, there are a finite number of numbers.\n",
    "In the case of Q and R, between the 2 elements, there are an infinite number of different numbers.\n"
   ],
   "metadata": {
    "collapsed": false
   }
  },
  {
   "cell_type": "markdown",
   "source": [
    "# Vectors\n",
    "\n",
    "### An ordered list of n elements, usually displayed in their transposed form.\n",
    "v1 = (1, 2, 3)\n",
    "v2 = (3, 2, 1)\n",
    "v1 != v2\n",
    "\n",
    "Vectors of Real numbers, define an n dimensional vector, that belongs to R. (0.4, pi, e)"
   ],
   "metadata": {
    "collapsed": false
   }
  },
  {
   "cell_type": "code",
   "execution_count": 19,
   "metadata": {
    "collapsed": true
   },
   "outputs": [],
   "source": [
    "# 2D vectors and their calculations\n",
    "u = np.array([1, 2])\n",
    "v = np.array([3, 4])\n",
    "origin = np.array([0, 0])\n",
    "dot_product_uv = np.dot(u, v)\n",
    "norm_u = np.linalg.norm(u)\n",
    "norm_v = np.linalg.norm(v)\n",
    "cos_theta = dot_product_uv/(norm_u * norm_v)\n",
    "theta_radians = np.arccos(cos_theta)\n",
    "theta_degrees = np.arccos(cos_theta) * 180/np.pi"
   ]
  },
  {
   "cell_type": "code",
   "execution_count": 21,
   "outputs": [
    {
     "name": "stdout",
     "output_type": "stream",
     "text": [
      "10.304846468766044\n"
     ]
    },
    {
     "data": {
      "text/plain": "<matplotlib.quiver.Quiver at 0x238043d3880>"
     },
     "execution_count": 21,
     "metadata": {},
     "output_type": "execute_result"
    },
    {
     "data": {
      "text/plain": "<Figure size 432x288 with 1 Axes>",
      "image/png": "[encoded data removed]"
     },
     "metadata": {
      "needs_background": "light"
     },
     "output_type": "display_data"
    }
   ],
   "source": [
    "print(theta_degrees)\n",
    "plt.quiver(origin, origin, u, v)"
   ],
   "metadata": {
    "collapsed": false,
    "pycharm": {
     "name": "#%%\n"
    }
   }
  },
  {
   "cell_type": "markdown",
   "source": [
    "### Norm of a vector\n",
    "\n",
    "$$ v = (v_{1}, v_{2}, ..., v_{n})$$\n",
    "\n",
    "$$ ||v|| = \\sqrt{v_{1}^{2} + v_{2}^{2} + ... + v_{n}^{2}}$$"
   ],
   "metadata": {
    "collapsed": false
   }
  },
  {
   "cell_type": "code",
   "execution_count": 17,
   "outputs": [
    {
     "data": {
      "text/plain": "25.729360660537214"
     },
     "execution_count": 17,
     "metadata": {},
     "output_type": "execute_result"
    }
   ],
   "source": [
    "v = np.array([4, 6, 23, 9])\n",
    "norm = 0\n",
    "for i in v:\n",
    "    norm += i ** 2\n",
    "np.sqrt(norm)"
   ],
   "metadata": {
    "collapsed": false,
    "pycharm": {
     "name": "#%%\n"
    }
   }
  },
  {
   "cell_type": "markdown",
   "source": [
    "### Vector operations"
   ],
   "metadata": {
    "collapsed": false
   }
  },
  {
   "cell_type": "code",
   "execution_count": 8,
   "outputs": [],
   "source": [
    "# 2D vectors and their calculations\n",
    "u = np.array([1, 2])\n",
    "v = np.array([3, 4])\n",
    "origin = np.array([0, 0])\n",
    "dot_product_uv = np.dot(u, v)\n",
    "norm_u = np.linalg.norm(u)\n",
    "norm_v = np.linalg.norm(v)\n",
    "cos_theta = dot_product_uv/(norm_u * norm_v)\n",
    "theta_radians = np.arccos(cos_theta)\n",
    "theta_degrees = np.arccos(cos_theta) * 180/np.pi"
   ],
   "metadata": {
    "collapsed": false,
    "pycharm": {
     "name": "#%%\n"
    }
   }
  },
  {
   "cell_type": "markdown",
   "source": [
    "# Trigonometry\n",
    "\n",
    "###Sin, Cos, Tan\n",
    "\n",
    "Think of the unit circle, it makes everything easier."
   ],
   "metadata": {
    "collapsed": false
   }
  }
 ],
 "metadata": {
  "kernelspec": {
   "display_name": "Python 3",
   "language": "python",
   "name": "python3"
  },
  "language_info": {
   "codemirror_mode": {
    "name": "ipython",
    "version": 2
   },
   "file_extension": ".py",
   "mimetype": "text/x-python",
   "name": "python",
   "nbconvert_exporter": "python",
   "pygments_lexer": "ipython2",
   "version": "2.7.6"
  }
 },
 "nbformat": 4,
 "nbformat_minor": 0
}